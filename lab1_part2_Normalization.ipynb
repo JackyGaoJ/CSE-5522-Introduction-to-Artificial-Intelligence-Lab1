{
 "cells": [
  {
   "cell_type": "markdown",
   "metadata": {},
   "source": [
    "# CSE 5522 Lab1 Part 2 with Normalization\n",
    "# Name: Jian Gao"
   ]
  },
  {
   "cell_type": "code",
   "execution_count": 1,
   "metadata": {},
   "outputs": [],
   "source": [
    "import matplotlib.pyplot as plt\n",
    "import pandas as pd\n",
    "import numpy as np\n",
    "import math\n",
    "from sklearn.model_selection import train_test_split\n"
   ]
  },
  {
   "cell_type": "code",
   "execution_count": 2,
   "metadata": {},
   "outputs": [],
   "source": [
    "people_URL = \"https://raw.githubusercontent.com/efosler/cse5522data/master/height_vs_weight.csv\"\n",
    "people_df = pd.read_csv(people_URL)\n",
    "people_dataset = np.array(people_df)\n",
    "people_target = np.array(people_df[['basketball']])\n",
    "column_name = np.array(people_df.columns.values)"
   ]
  },
  {
   "cell_type": "code",
   "execution_count": 3,
   "metadata": {},
   "outputs": [],
   "source": [
    "# Split train and test datasets into 80/20\n",
    "people_train, people_test, people_traintarget, people_testtarget = train_test_split(people_df,people_target, test_size = 0.2)"
   ]
  },
  {
   "cell_type": "code",
   "execution_count": 4,
   "metadata": {},
   "outputs": [],
   "source": [
    "heights_train = np.array(people_train['height'], dtype='float').reshape(-1,1)\n",
    "heights_test = np.array(people_test['height'], dtype = 'float').reshape(-1,1)\n",
    "\n",
    "weight_train = np.array(people_train['weight'], dtype = 'float').reshape(-1,1)\n",
    "weight_test = np.array(people_test['weight'], dtype = 'float').reshape(-1,1)\n",
    "\n",
    "female_train = np.array(people_train['female']).reshape(-1,1)\n",
    "female_test = np.array(people_test['female']).reshape(-1,1)\n",
    "\n",
    "heights_train_norm = (heights_train - np.mean(heights_train))/np.std(heights_train)\n",
    "heights_test_norm = (heights_test - np.mean(heights_test))/np.std(heights_test)\n",
    "\n",
    "weight_train_norm = (weight_train - np.mean(weight_train))/np.std(weight_train)\n",
    "weight_test_norm = (weight_test - np.mean(weight_test))/np.std(weight_test)\n"
   ]
  },
  {
   "cell_type": "code",
   "execution_count": 5,
   "metadata": {},
   "outputs": [],
   "source": [
    "# Define method to compute accuracy\n",
    "def compute_accuracy(predictions, targets):\n",
    "    predictions_temp = []\n",
    "    accuracy_count = 0.0 \n",
    "    for x in range (len(predictions)):\n",
    "        if predictions[x] > 0.5:\n",
    "            predictions_temp.append(1.0)\n",
    "        elif predictions[x] <= 0.5:\n",
    "            predictions_temp.append(0.0)\n",
    "    \n",
    "    for y in range(len(predictions)):\n",
    "        if predictions_temp[y] == targets[y]:\n",
    "            accuracy_count +=1\n",
    "            \n",
    "    accuracy = accuracy_count / len(predictions)\n",
    "    return accuracy\n",
    "    "
   ]
  },
  {
   "cell_type": "code",
   "execution_count": 6,
   "metadata": {},
   "outputs": [],
   "source": [
    "# Sigmoid function to predict features\n",
    "def sigmoid_function(value):\n",
    "    result = []\n",
    "    for item in value:\n",
    "        result.append(1/(1+math.exp(-item)))\n",
    "    return result"
   ]
  },
  {
   "cell_type": "code",
   "execution_count": 7,
   "metadata": {},
   "outputs": [],
   "source": [
    "# Get predictions depend on features' size\n",
    "def get_prediction(weights, features):\n",
    "    if features.shape[1] == 1:\n",
    "        predictions = np.array([sigmoid_function(features * weights[0] + weights[1])])\n",
    "    elif features.shape[1] == 2:\n",
    "        predictions = np.array([sigmoid_function(features[:,0] * weights[0] + features[:,1] * weights[1] + weights[2])])\n",
    "    elif features.shape[1] == 3:\n",
    "        predictions = np.array([sigmoid_function(features[:,0] * weights[0] + features[:,1] * weights[1] + features[:,2] * weights[2] + weights[3])])\n",
    "    predictions = np.transpose(predictions)\n",
    "    return predictions"
   ]
  },
  {
   "cell_type": "code",
   "execution_count": 8,
   "metadata": {},
   "outputs": [],
   "source": [
    "# Log loss function, return loss and accuracy\n",
    "def loss_function(predictions, weights, features,  targets):\n",
    "    accuracy = compute_accuracy(predictions, targets)\n",
    "    length = len(targets)\n",
    "    target_one_loss = targets*np.log(predictions)\n",
    "    target_zero_loss = (1-targets)*np.log(1-predictions)\n",
    "    loss = target_one_loss + target_zero_loss\n",
    "    loss = -loss.sum() / length\n",
    "    return [loss,accuracy]"
   ]
  },
  {
   "cell_type": "code",
   "execution_count": 9,
   "metadata": {},
   "outputs": [],
   "source": [
    "# Compute gradient based on predictions and targets when only have one feature\n",
    "def computeGradientForOneFeature(predictions, weights, features, targets):\n",
    "    errors = predictions - targets\n",
    "    sum_errors = errors.sum()\n",
    "    gradient_w1 = np.dot(np.transpose(features), errors)\n",
    "    gradient = np.array([gradient_w1.item(), sum_errors])\n",
    "    gradient = gradient / len(features)\n",
    "    return gradient                        "
   ]
  },
  {
   "cell_type": "code",
   "execution_count": 10,
   "metadata": {},
   "outputs": [],
   "source": [
    "# Compute gradient based on predictions and targets when have two features\n",
    "def computeGradientForTwoFeature(predictions, weights, features, targets):\n",
    "    errors = predictions - targets\n",
    "    sum_errors = errors.sum()\n",
    "    gradient_w1 = np.dot(np.transpose(features[:,0]), errors)\n",
    "    gradient_w2 = np.dot(np.transpose(features[:,1]), errors)\n",
    "    gradient = np.array([gradient_w1[0],gradient_w2[0],sum_errors])\n",
    "    gradient = gradient / len(features)\n",
    "    return gradient                        "
   ]
  },
  {
   "cell_type": "code",
   "execution_count": 11,
   "metadata": {},
   "outputs": [],
   "source": [
    "# Compute gradient based on predictions and targets when have three features\n",
    "def computeGradientForThreeFeature(predictions, weights, features, targets):\n",
    "    errors = predictions - targets\n",
    "    sum_errors = errors.sum()\n",
    "    gradient_w1 = np.dot(np.transpose(features[:,0]), errors)\n",
    "    gradient_w2 = np.dot(np.transpose(features[:,1]), errors)\n",
    "    gradient_w3 = np.dot(np.transpose(features[:,2]), errors)\n",
    "    gradient = np.array([gradient_w1[0],gradient_w2[0],gradient_w3[0],sum_errors])\n",
    "    gradient = gradient / len(features)\n",
    "    return gradient                        "
   ]
  },
  {
   "cell_type": "code",
   "execution_count": 12,
   "metadata": {},
   "outputs": [],
   "source": [
    "# Apply gradient descent on weights based on gradient\n",
    "def computeGradientDescentWeightUpdate(predictions, weights, features, targets, learning_rate):\n",
    "    if features.shape[1] == 1:\n",
    "        gradient = computeGradientForOneFeature(predictions, weights, features, targets)\n",
    "    elif features.shape[1] == 2:\n",
    "        gradient = computeGradientForTwoFeature(predictions, weights, features, targets)\n",
    "    elif features.shape[1] == 3:\n",
    "        gradient = computeGradientForThreeFeature(predictions, weights, features, targets)\n",
    "    weights = weights - learning_rate * gradient\n",
    "    return weights"
   ]
  },
  {
   "cell_type": "code",
   "execution_count": 13,
   "metadata": {},
   "outputs": [],
   "source": [
    "# Train the logistic regression model by applying gradient 10000 times, return updated weights and predictions\n",
    "def trainModel(weights, features, targets):\n",
    "    loss_for_features = []\n",
    "    accuracy_for_features = []\n",
    "    learning_rate = 0.001\n",
    "    for times in range(12000):\n",
    "        predictions = get_prediction(weights, features)\n",
    "        weights = computeGradientDescentWeightUpdate(predictions, weights, features, targets,learning_rate)\n",
    "        result = loss_function(predictions, weights, features, targets)\n",
    "        loss = result[0]\n",
    "        accuracy = result[1]\n",
    "        loss_for_features.append(loss)\n",
    "        accuracy_for_features.append(accuracy)\n",
    "        if times%1000==0:\n",
    "            print (\"iter: \"+str(times) + \" loss: \"+ str(loss) + \" weights: \"+str(weights) + \" accuracy: \" + str(accuracy))\n",
    "    average_loss_for_features = np.mean(np.array(loss_for_features))\n",
    "    average_accuracy_for_features = np.mean(np.array(accuracy_for_features))\n",
    "    print(\"Average loss is: \" + str(average_loss_for_features) + \" Average accuracy is: \" + str(average_accuracy_for_features))\n",
    "    return [weights, predictions]"
   ]
  },
  {
   "cell_type": "code",
   "execution_count": 14,
   "metadata": {},
   "outputs": [],
   "source": [
    "# Test the model on test datasets and print loss and accuracy\n",
    "def testModel(weights, features, targets):\n",
    "    predictions_for_test = get_prediction(weights, features)\n",
    "    result = loss_function(predictions_for_test, weights, features, targets)\n",
    "    loss = result[0]\n",
    "    accuracy = result[1]\n",
    "    print(\"Loss: \" + str(loss) + \" accuracy: \" + str(accuracy))"
   ]
  },
  {
   "cell_type": "markdown",
   "metadata": {},
   "source": [
    "## Regard <font color = \"red\">\"height\" </font>as the only feature to predict"
   ]
  },
  {
   "cell_type": "markdown",
   "metadata": {},
   "source": [
    "### Train the model with feature <font color = \"red\">\"height\" </font>\n"
   ]
  },
  {
   "cell_type": "code",
   "execution_count": 15,
   "metadata": {},
   "outputs": [
    {
     "name": "stdout",
     "output_type": "stream",
     "text": [
      "iter: 0 loss: 0.6931471805599453 weights: [1.85723358e-04 3.12500000e-06] accuracy: 0.496875\n",
      "iter: 1000 loss: 0.6659738378002527 weights: [0.16455251 0.00277601] accuracy: 0.6375\n",
      "iter: 2000 loss: 0.6493448609037363 weights: [0.29315142 0.00501351] accuracy: 0.6375\n",
      "iter: 3000 loss: 0.6389902065700598 weights: [0.39464693 0.00692997] accuracy: 0.6375\n",
      "iter: 4000 loss: 0.6324139599454937 weights: [0.47554328 0.00865818] accuracy: 0.6375\n",
      "iter: 5000 loss: 0.6281589771661499 weights: [0.54062015 0.01026485] accuracy: 0.6375\n",
      "iter: 6000 loss: 0.625360650938754 weights: [0.59339655 0.01177754] accuracy: 0.6375\n",
      "iter: 7000 loss: 0.6234946337015269 weights: [0.63649255 0.01320408] accuracy: 0.6375\n",
      "iter: 8000 loss: 0.6222357754790572 weights: [0.67188686 0.01454396] accuracy: 0.6375\n",
      "iter: 9000 loss: 0.6213782560991931 weights: [0.70109556 0.01579427] accuracy: 0.6375\n",
      "iter: 10000 loss: 0.6207893937756392 weights: [0.72529604 0.01695248] accuracy: 0.6375\n",
      "iter: 11000 loss: 0.6203822924690762 weights: [0.74541374 0.01801762] accuracy: 0.6375\n",
      "Average loss is: 0.6335282102011792 Average accuracy is: 0.63748828125\n"
     ]
    }
   ],
   "source": [
    "# Training data\n",
    "weights_for_heights = np.array([0.,0.])\n",
    "weights_for_heights, predictions_for_heights = trainModel(weights_for_heights, heights_train_norm, people_traintarget)\n"
   ]
  },
  {
   "cell_type": "markdown",
   "metadata": {},
   "source": [
    "### Test the model with feature <font color = \"red\">\"height\" </font>\n"
   ]
  },
  {
   "cell_type": "code",
   "execution_count": 16,
   "metadata": {},
   "outputs": [
    {
     "name": "stdout",
     "output_type": "stream",
     "text": [
      "Loss: 0.6479431108343828 accuracy: 0.6\n"
     ]
    }
   ],
   "source": [
    "# Test data\n",
    "testModel(weights_for_heights, heights_test_norm, people_testtarget)"
   ]
  },
  {
   "cell_type": "markdown",
   "metadata": {},
   "source": [
    "### Plot the training data as well as the learned logistic regression function."
   ]
  },
  {
   "cell_type": "code",
   "execution_count": 17,
   "metadata": {},
   "outputs": [
    {
     "data": {
      "image/png": "[encoded data removed]",
      "text/plain": [
       "<Figure size 432x288 with 1 Axes>"
      ]
     },
     "metadata": {
      "needs_background": "light"
     },
     "output_type": "display_data"
    }
   ],
   "source": [
    "plt.scatter(heights_train_norm, people_traintarget, label=\"Training data\")\n",
    "plt.title(\"Logistic regression function by taking height as the only feature to predict\")\n",
    "plt.xlabel(\"Normalized Heights\")\n",
    "plt.ylabel(\"Probability of basketball player\")\n",
    "plt.scatter(heights_train_norm, predictions_for_heights, label = \"Logistic Regression function\")\n",
    "plt.axhline(y=0.5, color='red', linestyle='--', label = \"Threshold Line\")\n",
    "plt.legend(loc=4, prop={'size':10}, framealpha=0.5)\n",
    "plt.show()"
   ]
  },
  {
   "cell_type": "markdown",
   "metadata": {},
   "source": [
    "## Regard <font color = \"red\">\"height\" and \"female\"</font>as features to predict\n",
    "### Training the model with features <font color = \"red\">\"height\" and \"female\"</font>"
   ]
  },
  {
   "cell_type": "code",
   "execution_count": 18,
   "metadata": {},
   "outputs": [
    {
     "name": "stdout",
     "output_type": "stream",
     "text": [
      "iter: 0 loss: 0.6931471805599453 weights: [1.85723358e-04 6.25000000e-06 3.12500000e-06] accuracy: 0.496875\n",
      "iter: 1000 loss: 0.6657403242693773 weights: [0.16486623 0.01141589 0.00220185] accuracy: 0.65\n",
      "iter: 2000 loss: 0.6484360236765381 weights: [0.29465598 0.03076034 0.00224329] accuracy: 0.65\n",
      "iter: 3000 loss: 0.6370243447803273 weights: [3.98374545e-01 5.52958914e-02 2.46491353e-05] accuracy: 0.65\n",
      "iter: 4000 loss: 0.6291241481076839 weights: [ 0.48251064  0.08314497 -0.00431305] accuracy: 0.65\n",
      "iter: 5000 loss: 0.6233814206930108 weights: [ 0.55175486  0.11303494 -0.01053719] accuracy: 0.646875\n",
      "iter: 6000 loss: 0.6190091985515858 weights: [ 0.60951173  0.14410137 -0.01838993] accuracy: 0.653125\n",
      "iter: 7000 loss: 0.6155375108944706 weights: [ 0.65828369  0.17575359 -0.0276177 ] accuracy: 0.6625\n",
      "iter: 8000 loss: 0.6126778472240145 weights: [ 0.69993818  0.20758565 -0.03798427] accuracy: 0.659375\n",
      "iter: 9000 loss: 0.6102483840689656 weights: [ 0.7358901   0.23931743 -0.04927619] accuracy: 0.6625\n",
      "iter: 10000 loss: 0.6081316844228748 weights: [ 0.76722673  0.27075552 -0.06130427] accuracy: 0.6625\n",
      "iter: 11000 loss: 0.606250120048003 weights: [ 0.79479429  0.30176682 -0.07390313] accuracy: 0.675\n",
      "Average loss is: 0.6268102651340705 Average accuracy is: 0.6570533854166667\n"
     ]
    }
   ],
   "source": [
    "weights_for_heights_female = np.array([0.0,0.0,0.0])\n",
    "heights_female_train = np.concatenate((heights_train_norm,female_train), axis = 1)\n",
    "weights_for_heights_female, predictions_for_heights_female= trainModel(weights_for_heights_female, heights_female_train, people_traintarget)"
   ]
  },
  {
   "cell_type": "markdown",
   "metadata": {},
   "source": [
    "### Test the model with features <font color = \"red\">\"height\" and \"gender\"</font>"
   ]
  },
  {
   "cell_type": "code",
   "execution_count": 19,
   "metadata": {
    "scrolled": true
   },
   "outputs": [
    {
     "name": "stdout",
     "output_type": "stream",
     "text": [
      "Loss: 0.6454369422536661 accuracy: 0.625\n"
     ]
    }
   ],
   "source": [
    "heights_female_test = np.concatenate((heights_test_norm,female_test), axis = 1)\n",
    "testModel(weights_for_heights_female, heights_female_test, people_testtarget)\n"
   ]
  },
  {
   "cell_type": "markdown",
   "metadata": {},
   "source": [
    "### Plot the training data as well as the learned logistic regression function for both <font color = \"red\">\"Male heights\" </font>  and <font color=\"red\">\"Female heights\"</font>"
   ]
  },
  {
   "cell_type": "code",
   "execution_count": 20,
   "metadata": {},
   "outputs": [
    {
     "data": {
      "image/png": "[encoded data removed]",
      "text/plain": [
       "<Figure size 432x288 with 1 Axes>"
      ]
     },
     "metadata": {
      "needs_background": "light"
     },
     "output_type": "display_data"
    }
   ],
   "source": [
    "heights_train_for_female= heights_female_train[heights_female_train[:,1] != 0.0]\n",
    "heights_train_for_male = heights_female_train[heights_female_train[:,1] == 0.0]\n",
    "predictions_for_heights_female = get_prediction(weights_for_heights_female, heights_train_for_female)\n",
    "predictions_for_heights_male = get_prediction(weights_for_heights_female, heights_train_for_male)\n",
    "plt.title(\"Logistic regression function by taking heights and gender as features to predict\")\n",
    "plt.scatter(heights_train_norm, people_traintarget, label=\"Training data\")\n",
    "plt.xlabel(\"Normalized Heights\")\n",
    "plt.ylabel(\"Probability of basketball player\")\n",
    "plt.scatter(heights_train_for_female[:,0], predictions_for_heights_female, label = \"Logistic Regression function for female\")\n",
    "plt.scatter(heights_train_for_male[:,0], predictions_for_heights_male, label = \"Logistic Regression function for male\")\n",
    "plt.axhline(y=0.5, color='red', linestyle='--', label = \"Threshold Line\")\n",
    "plt.legend(loc=4,prop={'size': 8}, framealpha=0.2)\n",
    "plt.show()"
   ]
  },
  {
   "cell_type": "markdown",
   "metadata": {},
   "source": [
    "## <font color = \"red\">Answer to questions:</font> \"do the learned functions make sense relative to one another?\"\n",
    "    By seeing these two functions in the plot, it can be concluded that most male are taller than female. And for both male and female with same heights, it is more likely for female with that height to be a basketball player. By comparing these two functions to the one before (\"height\" is the only feature), it is more accurate by predicting with features \"height\" and \"gender\"."
   ]
  },
  {
   "cell_type": "markdown",
   "metadata": {},
   "source": [
    "## Regard <font color = \"red\">\"height\" and \"weight\"</font>as features to predict\n",
    "### Training the model with features <font color = \"red\">\"height\" and \"weight\"</font>"
   ]
  },
  {
   "cell_type": "code",
   "execution_count": 21,
   "metadata": {},
   "outputs": [
    {
     "name": "stdout",
     "output_type": "stream",
     "text": [
      "iter: 0 loss: 0.6931471805599453 weights: [1.85723358e-04 2.33864296e-04 3.12500000e-06] accuracy: 0.496875\n",
      "iter: 1000 loss: 0.6349766424810716 weights: [0.14368302 0.19133936 0.00280687] accuracy: 0.659375\n",
      "iter: 2000 loss: 0.6105591445564718 weights: [0.22750109 0.32184328 0.00526528] accuracy: 0.659375\n",
      "iter: 3000 loss: 0.5990697075873817 weights: [0.27631098 0.41656205 0.00761337] accuracy: 0.6625\n",
      "iter: 4000 loss: 0.5930229344490796 weights: [0.30355621 0.48899264 0.00987219] accuracy: 0.6625\n",
      "iter: 5000 loss: 0.589480487743669 weights: [0.31684981 0.5467626  0.01199682] accuracy: 0.6625\n",
      "iter: 6000 loss: 0.5871744407382115 weights: [0.32078083 0.59446344 0.01394118] accuracy: 0.6625\n",
      "iter: 7000 loss: 0.5855148421893073 weights: [0.31827006 0.63501601 0.01567493] accuracy: 0.6625\n",
      "iter: 8000 loss: 0.584211095227384 weights: [0.31125724 0.67036084 0.01718432] accuracy: 0.6625\n",
      "iter: 9000 loss: 0.583113725163533 weights: [0.30107276 0.70183074 0.01846861] accuracy: 0.6625\n",
      "iter: 10000 loss: 0.5821431939354431 weights: [0.28865141 0.73036469 0.01953616] accuracy: 0.6625\n",
      "iter: 11000 loss: 0.5812559683907612 weights: [0.27466195 0.75663725 0.02040106] accuracy: 0.6625\n",
      "Average loss is: 0.596675824442486 Average accuracy is: 0.6615966145833332\n"
     ]
    }
   ],
   "source": [
    "weights_for_heights_weight= np.array([0.0,0.0,0.0])\n",
    "heights_weight_train = np.concatenate((heights_train_norm,weight_train_norm), axis = 1)\n",
    "weights_for_heights_weight, predictions_for_heights_weight = trainModel(weights_for_heights_weight, heights_weight_train, people_traintarget)"
   ]
  },
  {
   "cell_type": "markdown",
   "metadata": {},
   "source": [
    "### Test the model with features <font color = \"red\">\"height\" and \"weight\"</font>"
   ]
  },
  {
   "cell_type": "code",
   "execution_count": 22,
   "metadata": {},
   "outputs": [
    {
     "name": "stdout",
     "output_type": "stream",
     "text": [
      "Loss: 0.569834000935901 accuracy: 0.725\n"
     ]
    }
   ],
   "source": [
    "heights_weight_test = np.concatenate((heights_test_norm,weight_test_norm), axis = 1)\n",
    "testModel(weights_for_heights_weight, heights_weight_test, people_testtarget)"
   ]
  },
  {
   "cell_type": "markdown",
   "metadata": {},
   "source": [
    "## Regard <font color = \"red\">\"height\" and \"weight\" and \"gender\"</font>as features to predict\n",
    "### Training the model with features <font color = \"red\">\"height\" and \"weight\" and \"gender\"</font>"
   ]
  },
  {
   "cell_type": "code",
   "execution_count": 23,
   "metadata": {},
   "outputs": [
    {
     "name": "stdout",
     "output_type": "stream",
     "text": [
      "iter: 0 loss: 0.6931471805599453 weights: [1.85723358e-04 2.33864296e-04 6.25000000e-06 3.12500000e-06] accuracy: 0.496875\n",
      "iter: 1000 loss: 0.6344797562379458 weights: [0.14408205 0.19164436 0.01625306 0.00203427] accuracy: 0.659375\n",
      "iter: 2000 loss: 0.6086871809117096 weights: [0.22942443 0.32324595 0.04529881 0.00134748] accuracy: 0.6625\n",
      "iter: 3000 loss: 0.5953527443074221 weights: [ 0.28092454  0.41977458  0.08034627 -0.00214272] accuracy: 0.665625\n",
      "iter: 4000 loss: 0.587307107347683 weights: [ 0.3118714   0.49453376  0.11792961 -0.00818372] accuracy: 0.665625\n",
      "iter: 5000 loss: 0.5817774768505577 weights: [ 0.32970181  0.55497684  0.15624376 -0.01643172] accuracy: 0.678125\n",
      "iter: 6000 loss: 0.5775729089283945 weights: [ 0.33884363  0.60555556  0.1943233  -0.02652608] accuracy: 0.678125\n",
      "iter: 7000 loss: 0.5741346360091854 weights: [ 0.3420781   0.64908133  0.23164932 -0.0381213 ] accuracy: 0.690625\n",
      "iter: 8000 loss: 0.5711805635050075 weights: [ 0.34122682  0.68740995  0.26795082 -0.05090204] accuracy: 0.7\n",
      "iter: 9000 loss: 0.568558965459478 weights: [ 0.33752167  0.72180968  0.30309841 -0.06458946] accuracy: 0.696875\n",
      "iter: 10000 loss: 0.566183353803452 weights: [ 0.33181623  0.75317139  0.33704471 -0.07894259] accuracy: 0.7\n",
      "iter: 11000 loss: 0.5640015613494276 weights: [ 0.32471313  0.78213492  0.36978969 -0.09375692] accuracy: 0.7\n",
      "Average loss is: 0.5874753280989101 Average accuracy is: 0.6812393229166667\n"
     ]
    }
   ],
   "source": [
    "weights_for_all = np.array([0.0,0.0,0.0,0.0])\n",
    "total_train = np.concatenate((heights_train_norm,weight_train_norm,female_train), axis = 1)\n",
    "weights_for_all, predictions_for_all = trainModel(weights_for_all, total_train, people_traintarget)"
   ]
  },
  {
   "cell_type": "markdown",
   "metadata": {},
   "source": [
    "### Test the model with features <font color = \"red\">\"height\" and \"weight\" and \"gender\"</font>"
   ]
  },
  {
   "cell_type": "code",
   "execution_count": 24,
   "metadata": {},
   "outputs": [
    {
     "name": "stdout",
     "output_type": "stream",
     "text": [
      "Loss: 0.5681762047191835 accuracy: 0.75\n"
     ]
    }
   ],
   "source": [
    "total_test = np.concatenate((heights_test_norm,weight_test_norm,female_test), axis = 1)\n",
    "testModel(weights_for_all, total_test, people_testtarget)"
   ]
  },
  {
   "cell_type": "markdown",
   "metadata": {},
   "source": [
    "## <font color = \"red\">Answer to questions:</font>  : \"Evaluate on average loss and accuracy.  Does weight help as a feature?\"\n",
    "### Conclusion of data: \n",
    "    \"Height\" as the only feature:\n",
    "        In training data:   Average loss is: 0.6335282102011792 Average accuracy is: 0.63748828125\n",
    "        In test data:       Loss: 0.6479431108343828 accuracy: 0.6\n",
    "        \n",
    "    \"Height\" and \"gender\" as features:\n",
    "        In training data:   Average loss is: 0.6268102651340705 Average accuracy is: 0.6570533854166667\n",
    "        In test data:       Loss: 0.6454369422536661 accuracy: 0.625\n",
    "        \n",
    "    \"Height and weight\" as features:       \n",
    "        In training data:   Average loss is: 0.596675824442486 Average accuracy is: 0.6615966145833332\n",
    "        In test data:       Loss: 0.569834000935901 accuracy: 0.725\n",
    "        \n",
    "    \"Height, weight and gender\" as features:   \n",
    "        In training data:   Average loss is: 0.5874753280989101 Average accuracy is: 0.6812393229166667\n",
    "        In test data:       Loss: 0.5681762047191835 accuracy: 0.75\n",
    "        \n",
    "     So, by comparing accuracy and loss, \"weight\" does help as a feature. After adding it, accuracy increased by comparing accuracy for feature(\"height\", \"gender\", \"weight\") and feature(\"height\", \"gender\"), and by comparing feature(\"height\") and feature(\"heights\", \"weight\")"
   ]
  },
  {
   "cell_type": "code",
   "execution_count": null,
   "metadata": {},
   "outputs": [],
   "source": []
  },
  {
   "cell_type": "code",
   "execution_count": null,
   "metadata": {},
   "outputs": [],
   "source": []
  }
 ],
 "metadata": {
  "kernelspec": {
   "display_name": "Python 3",
   "language": "python",
   "name": "python3"
  },
  "language_info": {
   "codemirror_mode": {
    "name": "ipython",
    "version": 3
   },
   "file_extension": ".py",
   "mimetype": "text/x-python",
   "name": "python",
   "nbconvert_exporter": "python",
   "pygments_lexer": "ipython3",
   "version": "3.7.3"
  }
 },
 "nbformat": 4,
 "nbformat_minor": 2
}
