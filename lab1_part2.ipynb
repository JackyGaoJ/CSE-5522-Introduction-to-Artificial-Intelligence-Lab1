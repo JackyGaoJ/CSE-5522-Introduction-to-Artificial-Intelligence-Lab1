{
 "cells": [
  {
   "cell_type": "markdown",
   "metadata": {},
   "source": [
    "# CSE 5522 Lab1 Part 2\n",
    "# Name: Jian Gao"
   ]
  },
  {
   "cell_type": "code",
   "execution_count": 127,
   "metadata": {},
   "outputs": [],
   "source": [
    "import matplotlib.pyplot as plt\n",
    "import pandas as pd\n",
    "import numpy as np\n",
    "import math\n",
    "from sklearn.model_selection import train_test_split\n"
   ]
  },
  {
   "cell_type": "code",
   "execution_count": 128,
   "metadata": {},
   "outputs": [],
   "source": [
    "people_URL = \"https://raw.githubusercontent.com/efosler/cse5522data/master/height_vs_weight.csv\"\n",
    "people_df = pd.read_csv(people_URL)\n",
    "people_dataset = np.array(people_df)\n",
    "people_target = np.array(people_df[['basketball']])\n",
    "column_name = np.array(people_df.columns.values)"
   ]
  },
  {
   "cell_type": "code",
   "execution_count": 129,
   "metadata": {},
   "outputs": [],
   "source": [
    "# Split train and test datasets into 80/20\n",
    "people_train, people_test, people_traintarget, people_testtarget = train_test_split(people_df,people_target, test_size = 0.2)"
   ]
  },
  {
   "cell_type": "code",
   "execution_count": 130,
   "metadata": {},
   "outputs": [],
   "source": [
    "heights_train = np.array(people_train['height'], dtype='float').reshape(-1,1)\n",
    "heights_test = np.array(people_test['height'], dtype = 'float').reshape(-1,1)\n",
    "\n",
    "weight_train = np.array(people_train['weight'], dtype = 'float').reshape(-1,1)\n",
    "weight_test = np.array(people_test['weight'], dtype = 'float').reshape(-1,1)\n",
    "\n",
    "female_train = np.array(people_train['female']).reshape(-1,1)\n",
    "female_test = np.array(people_test['female']).reshape(-1,1)"
   ]
  },
  {
   "cell_type": "code",
   "execution_count": 131,
   "metadata": {},
   "outputs": [],
   "source": [
    "# Define method to compute accuracy\n",
    "def compute_accuracy(predictions, targets):\n",
    "    predictions_temp = []\n",
    "    accuracy_count = 0.0 \n",
    "    for x in range (len(predictions)):\n",
    "        if predictions[x] > 0.5:\n",
    "            predictions_temp.append(1.0)\n",
    "        elif predictions[x] <= 0.5:\n",
    "            predictions_temp.append(0.0)\n",
    "    \n",
    "    for y in range(len(predictions)):\n",
    "        if predictions_temp[y] == targets[y]:\n",
    "            accuracy_count +=1\n",
    "            \n",
    "    accuracy = accuracy_count / len(predictions)\n",
    "    return accuracy\n",
    "    "
   ]
  },
  {
   "cell_type": "code",
   "execution_count": 132,
   "metadata": {},
   "outputs": [],
   "source": [
    "# Sigmoid function to predict features\n",
    "def sigmoid_function(value):\n",
    "    result = []\n",
    "    for item in value:\n",
    "        result.append(1/(1+math.exp(-item)))\n",
    "    return result"
   ]
  },
  {
   "cell_type": "code",
   "execution_count": 133,
   "metadata": {},
   "outputs": [],
   "source": [
    "# Get predictions depend on features' size\n",
    "def get_prediction(weights, features):\n",
    "    if features.shape[1] == 1:\n",
    "        predictions = np.array([sigmoid_function(features * weights[0] + weights[1])])\n",
    "    elif features.shape[1] == 2:\n",
    "        predictions = np.array([sigmoid_function(features[:,0] * weights[0] + features[:,1] * weights[1] + weights[2])])\n",
    "    elif features.shape[1] == 3:\n",
    "        predictions = np.array([sigmoid_function(features[:,0] * weights[0] + features[:,1] * weights[1] + features[:,2] * weights[2] + weights[3])])\n",
    "    predictions = np.transpose(predictions)\n",
    "    return predictions"
   ]
  },
  {
   "cell_type": "code",
   "execution_count": 134,
   "metadata": {},
   "outputs": [],
   "source": [
    "# Log loss function, return loss and accuracy\n",
    "def loss_function(predictions, weights, features,  targets):\n",
    "    accuracy = compute_accuracy(predictions, targets)\n",
    "    length = len(targets)\n",
    "    target_one_loss = targets*np.log(predictions)\n",
    "    target_zero_loss = (1-targets)*np.log(1-predictions)\n",
    "    loss = target_one_loss + target_zero_loss\n",
    "    loss = -loss.sum() / length\n",
    "    return [loss,accuracy]"
   ]
  },
  {
   "cell_type": "code",
   "execution_count": 135,
   "metadata": {},
   "outputs": [],
   "source": [
    "# Compute gradient based on predictions and targets when only have one feature\n",
    "def computeGradientForOneFeature(predictions, weights, features, targets):\n",
    "    errors = predictions - targets\n",
    "    sum_errors = errors.sum()\n",
    "    gradient_w1 = np.dot(np.transpose(features), errors)\n",
    "    gradient = np.array([gradient_w1.item(), sum_errors])\n",
    "    gradient = gradient / len(features)\n",
    "    return gradient                        "
   ]
  },
  {
   "cell_type": "code",
   "execution_count": 136,
   "metadata": {},
   "outputs": [],
   "source": [
    "# Compute gradient based on predictions and targets when have two features\n",
    "def computeGradientForTwoFeature(predictions, weights, features, targets):\n",
    "    errors = predictions - targets\n",
    "    sum_errors = errors.sum()\n",
    "    gradient_w1 = np.dot(np.transpose(features[:,0]), errors)\n",
    "    gradient_w2 = np.dot(np.transpose(features[:,1]), errors)\n",
    "    gradient = np.array([gradient_w1[0],gradient_w2[0],sum_errors])\n",
    "    gradient = gradient / len(features)\n",
    "    return gradient                        "
   ]
  },
  {
   "cell_type": "code",
   "execution_count": 137,
   "metadata": {},
   "outputs": [],
   "source": [
    "# Compute gradient based on predictions and targets when have three features\n",
    "def computeGradientForThreeFeature(predictions, weights, features, targets):\n",
    "    errors = predictions - targets\n",
    "    sum_errors = errors.sum()\n",
    "    gradient_w1 = np.dot(np.transpose(features[:,0]), errors)\n",
    "    gradient_w2 = np.dot(np.transpose(features[:,1]), errors)\n",
    "    gradient_w3 = np.dot(np.transpose(features[:,2]), errors)\n",
    "    gradient = np.array([gradient_w1[0],gradient_w2[0],gradient_w3[0],sum_errors])\n",
    "    gradient = gradient / len(features)\n",
    "    return gradient                        "
   ]
  },
  {
   "cell_type": "code",
   "execution_count": 138,
   "metadata": {},
   "outputs": [],
   "source": [
    "# Apply gradient descent on weights based on gradient\n",
    "def computeGradientDescentWeightUpdate(predictions, weights, features, targets, learning_rate):\n",
    "    if features.shape[1] == 1:\n",
    "        gradient = computeGradientForOneFeature(predictions, weights, features, targets)\n",
    "    elif features.shape[1] == 2:\n",
    "        gradient = computeGradientForTwoFeature(predictions, weights, features, targets)\n",
    "    elif features.shape[1] == 3:\n",
    "        gradient = computeGradientForThreeFeature(predictions, weights, features, targets)\n",
    "    weights = weights - learning_rate * gradient\n",
    "    return weights"
   ]
  },
  {
   "cell_type": "code",
   "execution_count": 139,
   "metadata": {},
   "outputs": [],
   "source": [
    "# Train the logistic regression model by applying gradient 10000 times, return updated weights and predictions\n",
    "def trainModel(weights, features, targets):\n",
    "    loss_for_features = []\n",
    "    accuracy_for_features = []\n",
    "    learning_rate = 0.001\n",
    "    for times in range(12000):\n",
    "        predictions = get_prediction(weights, features)\n",
    "        weights = computeGradientDescentWeightUpdate(predictions, weights, features, targets,learning_rate)\n",
    "        result = loss_function(predictions, weights, features, targets)\n",
    "        loss = result[0]\n",
    "        accuracy = result[1]\n",
    "        loss_for_features.append(loss)\n",
    "        accuracy_for_features.append(accuracy)\n",
    "        if times%1000==0:\n",
    "            print (\"iter: \"+str(times) + \" loss: \"+ str(loss) + \" weights: \"+str(weights) + \" accuracy: \" + str(accuracy))\n",
    "    average_loss_for_features = np.mean(np.array(loss_for_features))\n",
    "    average_accuracy_for_features = np.mean(np.array(accuracy_for_features))\n",
    "    print(\"Average loss is: \" + str(average_loss_for_features) + \" Average accuracy is: \" + str(average_accuracy_for_features))\n",
    "    return [weights, predictions]"
   ]
  },
  {
   "cell_type": "code",
   "execution_count": 140,
   "metadata": {},
   "outputs": [],
   "source": [
    "# Test the model on test datasets and print loss and accuracy\n",
    "def testModel(weights, features, targets):\n",
    "    predictions_for_test = get_prediction(weights, features)\n",
    "    result = loss_function(predictions_for_test, weights, features, targets)\n",
    "    loss = result[0]\n",
    "    accuracy = result[1]\n",
    "    print(\"Loss: \" + str(loss) + \" accuracy: \" + str(accuracy))"
   ]
  },
  {
   "cell_type": "markdown",
   "metadata": {},
   "source": [
    "## Regard <font color = \"red\">\"height\" </font>as the only feature to predict"
   ]
  },
  {
   "cell_type": "markdown",
   "metadata": {},
   "source": [
    "### Train the model with feature <font color = \"red\">\"height\" </font>\n"
   ]
  },
  {
   "cell_type": "code",
   "execution_count": 141,
   "metadata": {},
   "outputs": [
    {
     "name": "stdout",
     "output_type": "stream",
     "text": [
      "iter: 0 loss: 4.443873402189723 weights: [ 0.03533923 -8.99950637] accuracy: 0.50625\n",
      "iter: 1000 loss: 0.6207710418915411 weights: [ 0.12920926 -9.00049415] accuracy: 0.6625\n",
      "iter: 2000 loss: 0.6207657309020325 weights: [ 0.12924227 -9.00279847] accuracy: 0.6625\n",
      "iter: 3000 loss: 0.6207604317036858 weights: [ 0.12927524 -9.00510023] accuracy: 0.6625\n",
      "iter: 4000 loss: 0.6207551442688641 weights: [ 0.12930817 -9.00739944] accuracy: 0.6625\n",
      "iter: 5000 loss: 0.620749868569999 weights: [ 0.12934107 -9.00969609] accuracy: 0.6625\n",
      "iter: 6000 loss: 0.6207446045795925 weights: [ 0.12937393 -9.01199019] accuracy: 0.6625\n",
      "iter: 7000 loss: 0.6207393522702145 weights: [ 0.12940676 -9.01428174] accuracy: 0.6625\n",
      "iter: 8000 loss: 0.6207341116145045 weights: [ 0.12943954 -9.01657075] accuracy: 0.6625\n",
      "iter: 9000 loss: 0.6207288825851706 weights: [ 0.1294723  -9.01885722] accuracy: 0.6625\n",
      "iter: 10000 loss: 0.6207236651549887 weights: [ 0.12950501 -9.02114116] accuracy: 0.6625\n",
      "iter: 11000 loss: 0.6207184592968039 weights: [ 0.12953769 -9.02342256] accuracy: 0.6625\n",
      "Average loss is: 0.6214157536902742 Average accuracy is: 0.6624473958333331\n"
     ]
    }
   ],
   "source": [
    "# Training data\n",
    "weights_for_heights = np.array([0.,-9])\n",
    "weights_for_heights, predictions_for_heights = trainModel(weights_for_heights, heights_train, people_traintarget)\n"
   ]
  },
  {
   "cell_type": "markdown",
   "metadata": {},
   "source": [
    "### Test the model with feature <font color = \"red\">\"height\" </font>\n"
   ]
  },
  {
   "cell_type": "code",
   "execution_count": 142,
   "metadata": {},
   "outputs": [
    {
     "name": "stdout",
     "output_type": "stream",
     "text": [
      "Loss: 0.6509285523551498 accuracy: 0.5375\n"
     ]
    }
   ],
   "source": [
    "# Test data\n",
    "testModel(weights_for_heights, heights_test, people_testtarget)"
   ]
  },
  {
   "cell_type": "markdown",
   "metadata": {},
   "source": [
    "### Plot the training data as well as the learned logistic regression function."
   ]
  },
  {
   "cell_type": "code",
   "execution_count": 162,
   "metadata": {},
   "outputs": [
    {
     "data": {
      "image/png": "[encoded data removed]",
      "text/plain": [
       "<Figure size 432x288 with 1 Axes>"
      ]
     },
     "metadata": {
      "needs_background": "light"
     },
     "output_type": "display_data"
    }
   ],
   "source": [
    "plt.scatter(heights_train, people_traintarget, label=\"Training data\")\n",
    "plt.title(\"Logistic regression function by taking height as the only feature to predict\")\n",
    "plt.xlabel(\"Heights\")\n",
    "plt.ylabel(\"Probability of basketball player\")\n",
    "plt.scatter(heights_train, predictions_for_heights, label = \"Logistic Regression function\")\n",
    "plt.axhline(y=0.5, color='red', linestyle='--', label = \"Threshold Line\")\n",
    "plt.legend(loc=4, prop={'size':10}, framealpha=0.5)\n",
    "plt.show()"
   ]
  },
  {
   "cell_type": "markdown",
   "metadata": {},
   "source": [
    "## Regard <font color = \"red\">\"height\" and \"gender\"</font>as features to predict\n",
    "### Training the model with features <font color = \"red\">\"height\" and \"gender\"</font>"
   ]
  },
  {
   "cell_type": "code",
   "execution_count": 144,
   "metadata": {},
   "outputs": [
    {
     "name": "stdout",
     "output_type": "stream",
     "text": [
      "iter: 0 loss: 11.385187500275512 weights: [-0.16465219  0.50025625 -8.99950625] accuracy: 0.50625\n",
      "iter: 1000 loss: 0.6056088389298037 weights: [ 0.12552217  0.515947   -9.00026012] accuracy: 0.675\n",
      "iter: 2000 loss: 0.6054184464982351 weights: [ 0.12550062  0.52883842 -9.005173  ] accuracy: 0.675\n",
      "iter: 3000 loss: 0.6052465456894766 weights: [ 0.12548538  0.54096725 -9.01014627] accuracy: 0.671875\n",
      "iter: 4000 loss: 0.6050909408482139 weights: [ 0.12547605  0.55238013 -9.0151761 ] accuracy: 0.671875\n",
      "iter: 5000 loss: 0.6049496962927152 weights: [ 0.12547227  0.56312093 -9.02025882] accuracy: 0.671875\n",
      "iter: 6000 loss: 0.6048211058417214 weights: [ 0.1254737   0.57323086 -9.02539102] accuracy: 0.68125\n",
      "iter: 7000 loss: 0.6047036658488129 weights: [ 0.12548002  0.58274865 -9.03056946] accuracy: 0.68125\n",
      "iter: 8000 loss: 0.6045960513540788 weights: [ 0.12549091  0.59171066 -9.0357911 ] accuracy: 0.684375\n",
      "iter: 9000 loss: 0.6044970950034276 weights: [ 0.12550611  0.60015107 -9.04105305] accuracy: 0.684375\n",
      "iter: 10000 loss: 0.6044057684228072 weights: [ 0.12552532  0.60810196 -9.04635262] accuracy: 0.684375\n",
      "iter: 11000 loss: 0.6043211657681472 weights: [ 0.12554832  0.61559344 -9.05168726] accuracy: 0.684375\n",
      "Average loss is: 0.6092369607734048 Average accuracy is: 0.6788401041666667\n"
     ]
    }
   ],
   "source": [
    "weights_for_heights_female = np.array([-0.2,0.5,-9.])\n",
    "heights_female_train = np.concatenate((heights_train,female_train), axis = 1)\n",
    "weights_for_heights_female, predictions_for_heights_female= trainModel(weights_for_heights_female, heights_female_train, people_traintarget)"
   ]
  },
  {
   "cell_type": "markdown",
   "metadata": {},
   "source": [
    "### Test the model with features <font color = \"red\">\"height\" and \"gender\"</font>"
   ]
  },
  {
   "cell_type": "code",
   "execution_count": 145,
   "metadata": {
    "scrolled": true
   },
   "outputs": [
    {
     "name": "stdout",
     "output_type": "stream",
     "text": [
      "Loss: 0.6464549787615302 accuracy: 0.5875\n"
     ]
    }
   ],
   "source": [
    "heights_female_test = np.concatenate((heights_test,female_test), axis = 1)\n",
    "testModel(weights_for_heights_female, heights_female_test, people_testtarget)\n"
   ]
  },
  {
   "cell_type": "markdown",
   "metadata": {},
   "source": [
    "### Plot the training data as well as the learned logistic regression function for both <font color = \"red\">\"Male heights\" </font>  and <font color=\"red\">\"Female heights\"</font>"
   ]
  },
  {
   "cell_type": "code",
   "execution_count": 161,
   "metadata": {},
   "outputs": [
    {
     "data": {
      "image/png": "[encoded data removed]",
      "text/plain": [
       "<Figure size 432x288 with 1 Axes>"
      ]
     },
     "metadata": {
      "needs_background": "light"
     },
     "output_type": "display_data"
    }
   ],
   "source": [
    "heights_train_for_female= heights_female_train[heights_female_train[:,1] != 0.0]\n",
    "heights_train_for_male = heights_female_train[heights_female_train[:,1] == 0.0]\n",
    "predictions_for_heights_female = get_prediction(weights_for_heights_female, heights_train_for_female)\n",
    "predictions_for_heights_male = get_prediction(weights_for_heights_female, heights_train_for_male)\n",
    "plt.title(\"Logistic regression function by taking heights and gender as features to predict\")\n",
    "plt.scatter(heights_train, people_traintarget, label=\"Training data\")\n",
    "plt.xlabel(\"Heights\")\n",
    "plt.ylabel(\"Probability of basketball player\")\n",
    "plt.scatter(heights_train_for_female[:,0], predictions_for_heights_female, label = \"Logistic Regression function for female\")\n",
    "plt.scatter(heights_train_for_male[:,0], predictions_for_heights_male, label = \"Logistic Regression function for male\")\n",
    "plt.axhline(y=0.5, color='red', linestyle='--', label = \"Threshold Line\")\n",
    "plt.legend(loc=4,prop={'size': 8}, framealpha=0.2)\n",
    "plt.show()"
   ]
  },
  {
   "cell_type": "markdown",
   "metadata": {},
   "source": [
    "## <font color = \"red\">Answer to questions:</font> \"do the learned functions make sense relative to one another?\"\n",
    "    By seeing these two functions in the plot, it can be concluded that most male are taller than female. And for both male and female with same heights, it is more likely for female with that height to be a basketball player. By comparing these two functions to the one before (\"height\" is the only feature), it is more accurate by predicting with features \"height\" and \"gender\"."
   ]
  },
  {
   "cell_type": "markdown",
   "metadata": {},
   "source": [
    "## Regard <font color = \"red\">\"height\" and \"weight\"</font>as features to predict\n",
    "### Training the model with features <font color = \"red\">\"height\" and \"weight\"</font>"
   ]
  },
  {
   "cell_type": "code",
   "execution_count": 156,
   "metadata": {},
   "outputs": [
    {
     "name": "stdout",
     "output_type": "stream",
     "text": [
      "iter: 0 loss: 0.8360657463947596 weights: [-1.02759023e-01  5.01877880e-03  7.19993641e+00] accuracy: 0.3375\n",
      "iter: 1000 loss: 1.5692884907397184 weights: [-0.58301045  0.22538345  7.19082307] accuracy: 0.590625\n",
      "iter: 2000 loss: 1.569258859947925 weights: [-0.58304494  0.22538966  7.191245  ] accuracy: 0.590625\n",
      "iter: 3000 loss: 1.5692568664545252 weights: [-0.58305301  0.22539044  7.1916674 ] accuracy: 0.590625\n",
      "iter: 4000 loss: 1.569254873625414 weights: [-0.58306107  0.22539121  7.19208976] accuracy: 0.590625\n",
      "iter: 5000 loss: 1.569252881001241 weights: [-0.58306913  0.22539198  7.19251207] accuracy: 0.590625\n",
      "iter: 6000 loss: 1.5692508885819751 weights: [-0.58307719  0.22539276  7.19293434] accuracy: 0.590625\n",
      "iter: 7000 loss: 1.5692488963675992 weights: [-0.58308524  0.22539353  7.19335657] accuracy: 0.590625\n",
      "iter: 8000 loss: 1.5692469043580872 weights: [-0.5830933   0.22539431  7.19377876] accuracy: 0.590625\n",
      "iter: 9000 loss: 1.5692449125534238 weights: [-0.58310136  0.22539508  7.1942009 ] accuracy: 0.590625\n",
      "iter: 10000 loss: 1.5692429209535872 weights: [-0.58310941  0.22539586  7.194623  ] accuracy: 0.590625\n",
      "iter: 11000 loss: 1.5692409295585563 weights: [-0.58311747  0.22539663  7.19504506] accuracy: 0.590625\n",
      "Average loss is: 2.037304208090505 Average accuracy is: 0.621521875\n"
     ]
    }
   ],
   "source": [
    "weights_for_heights_weight= np.array([-0.1,0.0,7.2])\n",
    "heights_weight_train = np.concatenate((heights_train,weight_train), axis = 1)\n",
    "weights_for_heights_weight, predictions_for_heights_weight = trainModel(weights_for_heights_weight, heights_weight_train, people_traintarget)"
   ]
  },
  {
   "cell_type": "markdown",
   "metadata": {},
   "source": [
    "### Test the model with features <font color = \"red\">\"height\" and \"weight\"</font>"
   ]
  },
  {
   "cell_type": "code",
   "execution_count": 157,
   "metadata": {},
   "outputs": [
    {
     "name": "stdout",
     "output_type": "stream",
     "text": [
      "Loss: 1.5109040476790958 accuracy: 0.625\n"
     ]
    }
   ],
   "source": [
    "heights_weight_test = np.concatenate((heights_test,weight_test), axis = 1)\n",
    "testModel(weights_for_heights_weight, heights_weight_test, people_testtarget)"
   ]
  },
  {
   "cell_type": "markdown",
   "metadata": {},
   "source": [
    "## Regard <font color = \"red\">\"height\" and \"weight\" and \"gender\"</font>as features to predict\n",
    "### Training the model with features <font color = \"red\">\"height\" and \"weight\" and \"gender\"</font>"
   ]
  },
  {
   "cell_type": "code",
   "execution_count": 158,
   "metadata": {},
   "outputs": [
    {
     "name": "stdout",
     "output_type": "stream",
     "text": [
      "iter: 0 loss: 4.0940069714338065 weights: [-3.64719175e-01  1.98953498e-01  5.00256115e-01  4.92880960e-04] accuracy: 0.50625\n",
      "iter: 1000 loss: 1.567301010920291 weights: [-4.58236764e-01  2.15420143e-01  5.40249638e-01 -4.41296917e-04] accuracy: 0.6\n",
      "iter: 2000 loss: 1.5646296761701022 weights: [-4.59239057e-01  2.15676113e-01  5.82166815e-01  4.12491781e-04] accuracy: 0.603125\n",
      "iter: 3000 loss: 1.562006077740168 weights: [-0.46022542  0.21592696  0.62366209  0.00124521] accuracy: 0.603125\n",
      "iter: 4000 loss: 1.5594281465301656 weights: [-0.46119726  0.21617304  0.66473875  0.002057  ] accuracy: 0.609375\n",
      "iter: 5000 loss: 1.5568953060046062 weights: [-0.4621549   0.21641447  0.70540009  0.00284802] accuracy: 0.6125\n",
      "iter: 6000 loss: 1.5544069854558233 weights: [-0.46309867  0.21665138  0.74564945  0.00361842] accuracy: 0.6125\n",
      "iter: 7000 loss: 1.5519626194551397 weights: [-0.46402885  0.21688388  0.78549017  0.00436838] accuracy: 0.6125\n",
      "iter: 8000 loss: 1.5495616473724965 weights: [-0.46494576  0.21711211  0.82492559  0.00509806] accuracy: 0.615625\n",
      "iter: 9000 loss: 1.547203512948745 weights: [-0.46584969  0.21733616  0.86395909  0.00580763] accuracy: 0.615625\n",
      "iter: 10000 loss: 1.5448876639175324 weights: [-0.46674092  0.21755617  0.90259401  0.00649725] accuracy: 0.615625\n",
      "iter: 11000 loss: 1.5426135516736998 weights: [-0.46761974  0.21777222  0.94083375  0.00716709] accuracy: 0.615625\n",
      "Average loss is: 1.989936305755049 Average accuracy is: 0.6311523437500002\n"
     ]
    }
   ],
   "source": [
    "weights_for_all = np.array([-0.4,0.1,0.5,0])\n",
    "total_train = np.concatenate((heights_train,weight_train,female_train), axis = 1)\n",
    "weights_for_all, predictions_for_all = trainModel(weights_for_all, total_train, people_traintarget)"
   ]
  },
  {
   "cell_type": "markdown",
   "metadata": {},
   "source": [
    "### Test the model with features <font color = \"red\">\"height\" and \"weight\" and \"gender\"</font>"
   ]
  },
  {
   "cell_type": "code",
   "execution_count": 159,
   "metadata": {},
   "outputs": [
    {
     "name": "stdout",
     "output_type": "stream",
     "text": [
      "Loss: 1.512978630162775 accuracy: 0.6125\n"
     ]
    }
   ],
   "source": [
    "total_test = np.concatenate((heights_test,weight_test,female_test), axis = 1)\n",
    "testModel(weights_for_all, total_test, people_testtarget)"
   ]
  },
  {
   "cell_type": "markdown",
   "metadata": {},
   "source": [
    "## <font color = \"red\">Answer to questions:</font>  : \"Evaluate on average loss and accuracy.  Does weight help as a feature?\"\n",
    "### Conclusion of data: \n",
    "    \"Height\" as the only feature:\n",
    "        In training data:   Average loss is: 0.6214157536902742 Average accuracy is: 0.6624473958333331\n",
    "        In test data:       Loss: 0.6509285523551498 accuracy: 0.5375\n",
    "        \n",
    "    \"Height\" and \"gender\" as features:\n",
    "        In training data:   Average loss is: 0.6092369607734048 Average accuracy is: 0.6788401041666667\n",
    "        In test data:       Loss: 0.6464549787615302 accuracy: 0.5875\n",
    "        \n",
    "    \"Height and weight\" as features:       \n",
    "        In training data:   Average loss is: 2.037304208090505 Average accuracy is: 0.621521875\n",
    "        In test data:       Loss: 1.5109040476790958 accuracy: 0.625\n",
    "        \n",
    "    \"Height, weight and gender\" as features:   \n",
    "        In training data:   Average loss is: 1.989936305755049 Average accuracy is: 0.6311523437500002\n",
    "        In test data:       Loss: 1.512978630162775 accuracy: 0.6125\n",
    "        \n",
    "     So, by comparing accuracy and loss, \"weight\" does help as a feature. After adding it, accuracy increased by comparing accuracy for feature(\"height\", \"gender\", \"weight\") and feature(\"height\", \"gender\"), and by comparing feature(\"height\") and feature(\"heights\", \"weight\")"
   ]
  },
  {
   "cell_type": "code",
   "execution_count": null,
   "metadata": {},
   "outputs": [],
   "source": []
  }
 ],
 "metadata": {
  "kernelspec": {
   "display_name": "Python 3",
   "language": "python",
   "name": "python3"
  },
  "language_info": {
   "codemirror_mode": {
    "name": "ipython",
    "version": 3
   },
   "file_extension": ".py",
   "mimetype": "text/x-python",
   "name": "python",
   "nbconvert_exporter": "python",
   "pygments_lexer": "ipython3",
   "version": "3.7.3"
  }
 },
 "nbformat": 4,
 "nbformat_minor": 2
}
